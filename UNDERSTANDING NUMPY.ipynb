{
 "cells": [
  {
   "cell_type": "markdown",
   "id": "66d07f11-4355-459a-b9ba-5006bc210b0e",
   "metadata": {},
   "source": [
    "# TUTORIAL 2 \n",
    "\n"
   ]
  },
  {
   "cell_type": "code",
   "execution_count": 1,
   "id": "9cb33611-57f6-4002-914f-365c3d5e6f90",
   "metadata": {},
   "outputs": [
    {
     "data": {
      "text/html": [
       "<h3> UNDERSTANDING NUMPY </h2>\n"
      ],
      "text/plain": [
       "<IPython.core.display.HTML object>"
      ]
     },
     "metadata": {},
     "output_type": "display_data"
    }
   ],
   "source": [
    "%%html \n",
    "<h3> UNDERSTANDING NUMPY </h2>"
   ]
  },
  {
   "cell_type": "code",
   "execution_count": 2,
   "id": "68ec2803-31a0-469d-964f-1b7829d8a140",
   "metadata": {},
   "outputs": [
    {
     "name": "stdout",
     "output_type": "stream",
     "text": [
      "[[1 2 3 4]\n",
      " [2 4 6 8]]\n",
      "[[1.  2.  3.  4.5]\n",
      " [2.  4.  6.  8. ]]\n",
      "<class 'numpy.ndarray'>\n"
     ]
    }
   ],
   "source": [
    "import numpy as np \n",
    "#how to make arrays using numpy \n",
    "array1 = np.array([[1,2,3,4.5],[2,4,6,8]], dtype ='int32') # here data is losing as swe stored as datatype is int32 \n",
    "array2 = np.array([[1,2,3,4.5],[2,4,6,8]], dtype ='float32')\n",
    "print(array1)\n",
    "print(array2)\n",
    "print(type(array1))"
   ]
  },
  {
   "cell_type": "markdown",
   "id": "8b9a0371-6084-4467-aa3a-b54559c5d879",
   "metadata": {},
   "source": [
    "# WHY USE NUMPY ???\n",
    "THIS DIRECTLY DEALS WITH COMPUTER BINARY CODE THAT IS MUCH FASTER THAN ACTUAL PYTHON CODE # IT IS WRITTEN IN C 😊"
   ]
  },
  {
   "cell_type": "code",
   "execution_count": 3,
   "id": "32142e72-9e41-40d9-98ab-5775c2451326",
   "metadata": {},
   "outputs": [
    {
     "data": {
      "text/plain": [
       "dtype('int32')"
      ]
     },
     "execution_count": 3,
     "metadata": {},
     "output_type": "execute_result"
    }
   ],
   "source": [
    "array1.dtype #instead of 4.5 it is printing just 4"
   ]
  },
  {
   "cell_type": "code",
   "execution_count": 4,
   "id": "d23be606-41a7-48cd-91fc-a737ebcf8862",
   "metadata": {},
   "outputs": [
    {
     "data": {
      "text/plain": [
       "dtype('float32')"
      ]
     },
     "execution_count": 4,
     "metadata": {},
     "output_type": "execute_result"
    }
   ],
   "source": [
    "array2.dtype"
   ]
  },
  {
   "cell_type": "code",
   "execution_count": 5,
   "id": "f7bc1282-5184-4c14-8f64-6577264c16ef",
   "metadata": {},
   "outputs": [
    {
     "data": {
      "text/plain": [
       "array([[0., 0., 0., 0.],\n",
       "       [0., 0., 0., 0.],\n",
       "       [0., 0., 0., 0.],\n",
       "       [0., 0., 0., 0.],\n",
       "       [0., 0., 0., 0.],\n",
       "       [0., 0., 0., 0.]])"
      ]
     },
     "execution_count": 5,
     "metadata": {},
     "output_type": "execute_result"
    }
   ],
   "source": [
    "np.zeros((6,4))"
   ]
  },
  {
   "cell_type": "code",
   "execution_count": 6,
   "id": "1b387180-f695-45ad-b678-948dba19e66e",
   "metadata": {},
   "outputs": [
    {
     "name": "stdout",
     "output_type": "stream",
     "text": [
      "[1. 1. 1. 1.]\n",
      "[3 3]\n"
     ]
    }
   ],
   "source": [
    "print(np.ones(4))\n",
    "print(np.full(2,3))"
   ]
  },
  {
   "cell_type": "markdown",
   "id": "eaccc260-af24-45b6-93dc-3f44e5abbb66",
   "metadata": {},
   "source": [
    "# Slicing \n"
   ]
  },
  {
   "cell_type": "code",
   "execution_count": 7,
   "id": "1348d35a-ced1-43f3-a1b3-679fe77197f8",
   "metadata": {},
   "outputs": [],
   "source": [
    "array3 = np.array([3,4,6,7,9,8])\n"
   ]
  },
  {
   "cell_type": "raw",
   "id": "1b8488ea-2002-407d-84aa-f094e589dce9",
   "metadata": {},
   "source": [
    "arr = array3[2:5]"
   ]
  },
  {
   "cell_type": "code",
   "execution_count": null,
   "id": "38b0d4e7-f308-48ce-91d5-36ccc719e96d",
   "metadata": {},
   "outputs": [],
   "source": []
  },
  {
   "cell_type": "code",
   "execution_count": null,
   "id": "23a59bfc-b29d-46aa-bcc4-5257143fc0e9",
   "metadata": {},
   "outputs": [],
   "source": []
  }
 ],
 "metadata": {
  "kernelspec": {
   "display_name": "Python 3 (ipykernel)",
   "language": "python",
   "name": "python3"
  },
  "language_info": {
   "codemirror_mode": {
    "name": "ipython",
    "version": 3
   },
   "file_extension": ".py",
   "mimetype": "text/x-python",
   "name": "python",
   "nbconvert_exporter": "python",
   "pygments_lexer": "ipython3",
   "version": "3.11.4"
  }
 },
 "nbformat": 4,
 "nbformat_minor": 5
}
