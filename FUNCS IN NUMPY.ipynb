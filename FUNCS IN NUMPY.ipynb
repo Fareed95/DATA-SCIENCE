{
 "cells": [
  {
   "cell_type": "markdown",
   "id": "4e888e11-66f6-46b9-bb4c-f208f71d582a",
   "metadata": {},
   "source": [
    "# FUNCTIONS IN NUMPY"
   ]
  },
  {
   "cell_type": "code",
   "execution_count": 45,
   "id": "2c7f531d-84b3-4615-be8b-fed81a997062",
   "metadata": {},
   "outputs": [],
   "source": [
    "import numpy as np\n"
   ]
  },
  {
   "cell_type": "code",
   "execution_count": 46,
   "id": "45c28a9e-4157-47dc-815f-44c8fdeb2b73",
   "metadata": {},
   "outputs": [],
   "source": [
    "array1 = np.array([[4,2,3],[1,5,6]])"
   ]
  },
  {
   "cell_type": "code",
   "execution_count": 47,
   "id": "26382e48-813e-4740-9de6-fed4869bbcb6",
   "metadata": {},
   "outputs": [
    {
     "data": {
      "text/plain": [
       "array([5, 7, 9])"
      ]
     },
     "execution_count": 47,
     "metadata": {},
     "output_type": "execute_result"
    }
   ],
   "source": [
    "array1.sum(axis = 0) # it will add all same indexes"
   ]
  },
  {
   "cell_type": "code",
   "execution_count": 48,
   "id": "f3609047-c8f9-4a1c-9e14-873788387ce4",
   "metadata": {},
   "outputs": [
    {
     "data": {
      "text/plain": [
       "array([ 9, 12])"
      ]
     },
     "execution_count": 48,
     "metadata": {},
     "output_type": "execute_result"
    }
   ],
   "source": [
    "array1.sum(axis = 1) # it will add two array respectievely "
   ]
  },
  {
   "cell_type": "code",
   "execution_count": 49,
   "id": "df98881e-27cc-46f1-bcd4-e161aea1d35d",
   "metadata": {},
   "outputs": [
    {
     "data": {
      "text/plain": [
       "['ALLOW_THREADS',\n",
       " 'BUFSIZE',\n",
       " 'CLIP',\n",
       " 'DataSource',\n",
       " 'ERR_CALL',\n",
       " 'ERR_DEFAULT',\n",
       " 'ERR_IGNORE',\n",
       " 'ERR_LOG',\n",
       " 'ERR_PRINT',\n",
       " 'ERR_RAISE',\n",
       " 'ERR_WARN',\n",
       " 'FLOATING_POINT_SUPPORT',\n",
       " 'FPE_DIVIDEBYZERO',\n",
       " 'FPE_INVALID',\n",
       " 'FPE_OVERFLOW',\n",
       " 'FPE_UNDERFLOW',\n",
       " 'False_',\n",
       " 'Inf',\n",
       " 'Infinity',\n",
       " 'MAXDIMS',\n",
       " 'MAY_SHARE_BOUNDS',\n",
       " 'MAY_SHARE_EXACT',\n",
       " 'NAN',\n",
       " 'NINF',\n",
       " 'NZERO',\n",
       " 'NaN',\n",
       " 'PINF',\n",
       " 'PZERO',\n",
       " 'RAISE',\n",
       " 'RankWarning',\n",
       " 'SHIFT_DIVIDEBYZERO',\n",
       " 'SHIFT_INVALID',\n",
       " 'SHIFT_OVERFLOW',\n",
       " 'SHIFT_UNDERFLOW',\n",
       " 'ScalarType',\n",
       " 'True_',\n",
       " 'UFUNC_BUFSIZE_DEFAULT',\n",
       " 'UFUNC_PYVALS_NAME',\n",
       " 'WRAP',\n",
       " '_CopyMode',\n",
       " '_NoValue',\n",
       " '_UFUNC_API',\n",
       " '__NUMPY_SETUP__',\n",
       " '__all__',\n",
       " '__builtins__',\n",
       " '__cached__',\n",
       " '__config__',\n",
       " '__doc__',\n",
       " '__file__',\n",
       " '__git_revision__',\n",
       " '__loader__',\n",
       " '__name__',\n",
       " '__package__',\n",
       " '__path__',\n",
       " '__spec__',\n",
       " '__version__',\n",
       " '_add_newdoc_ufunc',\n",
       " '_arg",     
       " ...]"
      ]
     },
     "execution_count": 49,
     "metadata": {},
     "output_type": "execute_result"
    }
   ],
   "source": [
    "dir(np) # it will give all the functions that numpy can use"
   ]
  },
  {
   "cell_type": "code",
   "execution_count": 50,
   "id": "40cd9a9e-b009-486e-a8d5-58c19da25d14",
   "metadata": {},
   "outputs": [],
   "source": [
    "array1.max()"  # It will give maximum number among array
   ]
  },
  {
   "cell_type": "code",
   "execution_count": 51,
   "id": "ea02e720-f147-4c0f-b70e-f4389cf5dd49",
   "metadata": {},
   "outputs": [],
   "source": [
    "array1.min() # It will give minimum number among array"
   ]
  },
  {
   "cell_type": "code",
   "execution_count": 52,
   "id": "d08b6c45-e8d8-4967-a6f5-8bc84738c478",
   "metadata": {},
   "outputs": [],
   "source": [
    "array1.argmax() #It will give the index of maximum number"
   ]
  },
  {
   "cell_type": "code",
   "execution_count": 53,
   "id": "402cf8b3-c847-4678-a681-d224ef2e5459",
   "metadata": {},
   "outputs": [],
   "source": [
    "array1.argmin() # It will give the index of minimum number"
   ]
  },
  {
   "cell_type": "code",
   "execution_count": 54,
   "id": "ee67b6e1-c85e-495d-8c47-f0bcfd447f2b",
   "metadata": {},
   "outputs": [],
   "source": [
    "np.sqrt(array1) # It will give the square root of all values"
   ]
  }
 ],
 "metadata": {
  "kernelspec": {
   "display_name": "Python 3",
   "language": "python",
   "name": "python3"
  },
  "language_info": {
   "codemirror_mode": {
    "name": "ipython",
    "version": 3
   },
   "file_extension": ".py",
   "mimetype": "text/x-python",
   "name": "python",
   "nbconvert_exporter": "python",
   "pygments_lexer": "ipython3",
   "version": "3.7.9"
  }
 },
 "nbformat": 4,
 "nbformat_minor": 5
}
