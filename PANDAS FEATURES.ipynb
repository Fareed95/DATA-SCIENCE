{
 "cells": [
  {
   "cell_type": "markdown",
   "id": "ac4c80bf-a548-4c6b-ab99-3a359a3b6ec6",
   "metadata": {},
   "source": [
    "# HOW TO READ AND WRITE CSV FILES THAT IS EXCEL SHEETS AND HOW TO MAKE ITS ALGORITHM USING PANDASS"
   ]
  },
  {
   "cell_type": "code",
   "execution_count": 1,
   "id": "cddbe718-2314-4764-9131-6aaaa3a8bcd4",
   "metadata": {},
   "outputs": [],
   "source": [
    "import pandas as pd\n",
    "import numpy as np"
   ]
  },
  {
   "cell_type": "markdown",
   "id": "1387f9e3-9f82-482b-90c3-0e76dde4d8bf",
   "metadata": {},
   "source": [
    "# HOW TO WRITE A CSV FILE "
   ]
  },
  {
   "cell_type": "code",
   "execution_count": 2,
   "id": "2920e8d8-d0ca-44dc-9b5d-10712fd9c58d",
   "metadata": {},
   "outputs": [],
   "source": [
    "data_of_school = pd.DataFrame([[33,22],[25,56],[34,17],[56,21],[36,14],[23,24]], columns=[\"BOYS\", \"GIRLS\"], index = [\"DIV-A\",\"DIV-B\",\"DIV-C\",\"DIV-D\",\"DIV-E\",\"DIV-F\"])"
   ]
  },
  {
   "cell_type": "code",
   "execution_count": 3,
   "id": "5e917877-39c2-4d38-877d-e2c27182bffe",
   "metadata": {},
   "outputs": [
    {
     "data": {
      "text/html": [
       "<div>\n",
       "<style scoped>\n",
       "    .dataframe tbody tr th:only-of-type {\n",
       "        vertical-align: middle;\n",
       "    }\n",
       "\n",
       "    .dataframe tbody tr th {\n",
       "        vertical-align: top;\n",
       "    }\n",
       "\n",
       "    .dataframe thead th {\n",
       "        text-align: right;\n",
       "    }\n",
       "</style>\n",
       "<table border=\"1\" class=\"dataframe\">\n",
       "  <thead>\n",
       "    <tr style=\"text-align: right;\">\n",
       "      <th></th>\n",
       "      <th>BOYS</th>\n",
       "      <th>GIRLS</th>\n",
       "    </tr>\n",
       "  </thead>\n",
       "  <tbody>\n",
       "    <tr>\n",
       "      <th>DIV-A</th>\n",
       "      <td>33</td>\n",
       "      <td>22</td>\n",
       "    </tr>\n",
       "    <tr>\n",
       "      <th>DIV-B</th>\n",
       "      <td>25</td>\n",
       "      <td>56</td>\n",
       "    </tr>\n",
       "    <tr>\n",
       "      <th>DIV-C</th>\n",
       "      <td>34</td>\n",
       "      <td>17</td>\n",
       "    </tr>\n",
       "    <tr>\n",
       "      <th>DIV-D</th>\n",
       "      <td>56</td>\n",
       "      <td>21</td>\n",
       "    </tr>\n",
       "    <tr>\n",
       "      <th>DIV-E</th>\n",
       "      <td>36</td>\n",
       "      <td>14</td>\n",
       "    </tr>\n",
       "    <tr>\n",
       "      <th>DIV-F</th>\n",
       "      <td>23</td>\n",
       "      <td>24</td>\n",
       "    </tr>\n",
       "  </tbody>\n",
       "</table>\n",
       "</div>"
      ],
      "text/plain": [
       "       BOYS  GIRLS\n",
       "DIV-A    33     22\n",
       "DIV-B    25     56\n",
       "DIV-C    34     17\n",
       "DIV-D    56     21\n",
       "DIV-E    36     14\n",
       "DIV-F    23     24"
      ]
     },
     "execution_count": 3,
     "metadata": {},
     "output_type": "execute_result"
    }
   ],
   "source": [
    "data_of_school"
   ]
  },
  {
   "cell_type": "code",
   "execution_count": 4,
   "id": "e292f39a-4b46-4f5c-9a7d-a2d1c82fea18",
   "metadata": {},
   "outputs": [],
   "source": [
    "data_of_school.to_csv(\"school_data.csv\")"
   ]
  },
  {
   "cell_type": "markdown",
   "id": "8abfcd6e-a708-43a0-8bb7-ac73f9deca4b",
   "metadata": {},
   "source": [
    "# NOW HOW TO READ A CSV FILE \n",
    "IF ANY COMPANY PROVOIDES DATA IN EXCELL SHEET THEN HOW TO GET IT # HERE SCHOOL_DATA.CSV WORK AS ITS "
   ]
  },
  {
   "cell_type": "code",
   "execution_count": 5,
   "id": "dc76fce6-dcae-473e-98f5-ffc35268a2d9",
   "metadata": {},
   "outputs": [
    {
     "data": {
      "text/html": [
       "<div>\n",
       "<style scoped>\n",
       "    .dataframe tbody tr th:only-of-type {\n",
       "        vertical-align: middle;\n",
       "    }\n",
       "\n",
       "    .dataframe tbody tr th {\n",
       "        vertical-align: top;\n",
       "    }\n",
       "\n",
       "    .dataframe thead th {\n",
       "        text-align: right;\n",
       "    }\n",
       "</style>\n",
       "<table border=\"1\" class=\"dataframe\">\n",
       "  <thead>\n",
       "    <tr style=\"text-align: right;\">\n",
       "      <th></th>\n",
       "      <th>Unnamed: 0</th>\n",
       "      <th>BOYS</th>\n",
       "      <th>GIRLS</th>\n",
       "    </tr>\n",
       "  </thead>\n",
       "  <tbody>\n",
       "    <tr>\n",
       "      <th>0</th>\n",
       "      <td>DIV-A</td>\n",
       "      <td>33</td>\n",
       "      <td>22</td>\n",
       "    </tr>\n",
       "    <tr>\n",
       "      <th>1</th>\n",
       "      <td>DIV-B</td>\n",
       "      <td>25</td>\n",
       "      <td>56</td>\n",
       "    </tr>\n",
       "    <tr>\n",
       "      <th>2</th>\n",
       "      <td>DIV-C</td>\n",
       "      <td>34</td>\n",
       "      <td>17</td>\n",
       "    </tr>\n",
       "    <tr>\n",
       "      <th>3</th>\n",
       "      <td>DIV-D</td>\n",
       "      <td>56</td>\n",
       "      <td>21</td>\n",
       "    </tr>\n",
       "    <tr>\n",
       "      <th>4</th>\n",
       "      <td>DIV-E</td>\n",
       "      <td>36</td>\n",
       "      <td>14</td>\n",
       "    </tr>\n",
       "  </tbody>\n",
       "</table>\n",
       "</div>"
      ],
      "text/plain": [
       "  Unnamed: 0  BOYS  GIRLS\n",
       "0      DIV-A    33     22\n",
       "1      DIV-B    25     56\n",
       "2      DIV-C    34     17\n",
       "3      DIV-D    56     21\n",
       "4      DIV-E    36     14"
      ]
     },
     "execution_count": 5,
     "metadata": {},
     "output_type": "execute_result"
    }
   ],
   "source": [
    "data = pd.read_csv('school_data.csv')\n",
    "data.head()"
   ]
  },
  {
   "cell_type": "code",
   "execution_count": 6,
   "id": "a7298500-5dcd-4be5-83f2-e368931b45a3",
   "metadata": {},
   "outputs": [
    {
     "data": {
      "text/plain": [
       "dtype('int64')"
      ]
     },
     "execution_count": 6,
     "metadata": {},
     "output_type": "execute_result"
    }
   ],
   "source": [
    "data['BOYS'].dtype"
   ]
  },
  {
   "cell_type": "code",
   "execution_count": 9,
   "id": "b64129b3-1caf-44ef-bff5-c28d7b78bad6",
   "metadata": {},
   "outputs": [],
   "source": [
    "data_in_array = data.values   # it is converting the sheet into excel"
   ]
  },
  {
   "cell_type": "code",
   "execution_count": 10,
   "id": "bf05a9cd-dd2e-49b9-9cce-5f6d95dea9a1",
   "metadata": {},
   "outputs": [
    {
     "data": {
      "text/plain": [
       "array([['DIV-A', 33, 22],\n",
       "       ['DIV-B', 25, 56],\n",
       "       ['DIV-C', 34, 17],\n",
       "       ['DIV-D', 56, 21],\n",
       "       ['DIV-E', 36, 14],\n",
       "       ['DIV-F', 23, 24]], dtype=object)"
      ]
     },
     "execution_count": 10,
     "metadata": {},
     "output_type": "execute_result"
    }
   ],
   "source": [
    "data_in_array"
   ]
  },
  {
   "cell_type": "code",
   "execution_count": null,
   "id": "b035ca37-b542-4247-89a2-dab9b819b950",
   "metadata": {},
   "outputs": [],
   "source": []
  }
 ],
 "metadata": {
  "kernelspec": {
   "display_name": "Python 3 (ipykernel)",
   "language": "python",
   "name": "python3"
  },
  "language_info": {
   "codemirror_mode": {
    "name": "ipython",
    "version": 3
   },
   "file_extension": ".py",
   "mimetype": "text/x-python",
   "name": "python",
   "nbconvert_exporter": "python",
   "pygments_lexer": "ipython3",
   "version": "3.11.4"
  }
 },
 "nbformat": 4,
 "nbformat_minor": 5
}
